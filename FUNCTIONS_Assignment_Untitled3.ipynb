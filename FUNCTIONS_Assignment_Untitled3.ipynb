{
  "nbformat": 4,
  "nbformat_minor": 0,
  "metadata": {
    "colab": {
      "provenance": []
    },
    "kernelspec": {
      "name": "python3",
      "display_name": "Python 3"
    },
    "language_info": {
      "name": "python"
    }
  },
  "cells": [
    {
      "cell_type": "code",
      "execution_count": null,
      "metadata": {
        "id": "e8SPlODCPKob"
      },
      "outputs": [],
      "source": [
        "1. What is the difference between a function and a method in Python?\n",
        "ANS. In Python, functions and methods are both blocks of reusable code, but they differ in how they're defined and used.\n",
        "\n",
        " Function\n",
        "A function is defined using the def keyword and is independent of any object.\n",
        "\n",
        "You can call it directly by its name.\n",
        "\n",
        "It can exist outside of a class.\n",
        "\n",
        "Example:\n",
        "def greet(name):\n",
        "    return \"Hello \" + name\n",
        "\n",
        "print(greet(\"Alice\"))\n",
        " Method\n",
        "A method is also a function, but it is associated with an object (usually defined inside a class).\n",
        "\n",
        "It acts on the object it belongs to and usually uses the self parameter to access the object’s attributes.\n",
        "\n",
        "You call it using the syntax object.method().\n",
        "\n",
        "Example:\n",
        "class Person:\n",
        "    def greet(self, name):\n",
        "        return \"Hello \" + name\n",
        "\n",
        "p = Person()\n",
        "print(p.greet(\"Alice\"))"
      ]
    },
    {
      "cell_type": "code",
      "source": [
        "2. Explain the concept of function arguments and parameters in Python.\n",
        "ANS. Parameters\n",
        "Definition-time variables used in a function.\n",
        "\n",
        "You specify parameters inside the parentheses when defining a function.\n",
        "\n",
        "Example:\n",
        "def greet(name):\n",
        "    print(\"Hello\", name)\n",
        " Here, name is a parameter.\n",
        " Arguments\n",
        "Values you pass to a function when calling it.\n",
        "\n",
        "They are assigned to the parameters.\n",
        "greet(\"Alice\")\n"
      ],
      "metadata": {
        "id": "uAqqTzxcQCMx"
      },
      "execution_count": null,
      "outputs": []
    },
    {
      "cell_type": "code",
      "source": [
        "3.What are the different ways to define and call a function in Python?\n",
        "ANS. 1. Standard Function Definition and Call\n",
        "Definition:\n",
        "def greet():\n",
        "    print(\"Hello!\")\n",
        " Call:\n",
        "python\n",
        "greet()  # Output: Hello!\n",
        " Function with Parameters\n",
        " Definition:\n",
        "def greet(name):\n",
        "    print(\"Hello\", name)\n",
        " Call:\n",
        "greet(\"Alice\")  # Output: Hello Alice"
      ],
      "metadata": {
        "id": "DDupnQGZR4vx"
      },
      "execution_count": null,
      "outputs": []
    },
    {
      "cell_type": "code",
      "source": [
        "4.What is the purpose of the `return` statement in a Python function?\n",
        "ANS.Purpose of the return Statement in Python\n",
        "The return statement is used to send a value back from a function to the caller. It ends the function execution and provides the result to whatever code called the function.\n",
        "Example 1: Return a single value\n",
        "def add(a, b):\n",
        "    return a + b\n",
        "\n",
        "result = add(3, 5)\n",
        "print(result)  # Output:\n",
        "Example 2: Return nothing (used for exit)\n",
        "def greet(name):\n",
        "    if name == \"\":\n",
        "        return  # Exit early\n",
        "    print(\"Hello\", name)\n",
        "\n",
        "greet(\"\")       # No output\n",
        "greet(\"Alice\")  # Output: Hello Alice"
      ],
      "metadata": {
        "id": "bNI3BANyS9Zm"
      },
      "execution_count": null,
      "outputs": []
    },
    {
      "cell_type": "code",
      "source": [
        "5.What are iterators in Python and how do they differ from iterables?\n",
        "ANS.n Python, iterators and iterables are closely related concepts that enable looping through data, but they are not the same thing.\n",
        "\n",
        " What is an Iterable?\n",
        "An iterable is any object that can be looped over (i.e., you can use it in a for loop).\n",
        "\n",
        "Examples of iterables:\n",
        "\n",
        "Lists\n",
        "\n",
        "Tuples\n",
        "\n",
        "Strings\n",
        "\n",
        "Sets\n",
        "\n",
        "Dictionaries\n",
        "\n",
        " All these objects have an __iter__() method that returns an iterator.\n",
        "my_list = [1, 2, 3]\n",
        "for item in my_list:     le\n",
        "    print(item)\n",
        "    ..what is an Iterator?\n",
        "An iterator is an object that keeps state and produces the next value when you call next() on it.\n",
        "\n",
        "It implements two methods:\n",
        "\n",
        "__iter__() – returns itself\n",
        "\n",
        "__next__() – returns the next item, and raises StopIteration when finished\n",
        "python\n",
        "my_list = [1, 2, 3]\n",
        "iterator = iter(my_list)     # Creates an iterator from the iterable\n",
        "\n",
        "print(next(iterator))  # Output: 1\n",
        "print(next(iterator))  # Output: 2\n",
        "print(next(iterator))  # Output: 3\n",
        "# next(iterator) now raises StopIteration\n"
      ],
      "metadata": {
        "id": "2y2OycjUTs7h"
      },
      "execution_count": null,
      "outputs": []
    },
    {
      "cell_type": "code",
      "source": [
        "6.Explain the concept of generators in Python and how they are defined.\n",
        "ANS.A generator is a special type of iterator that allows you to generate values on the fly using the yield keyword.\n",
        "\n",
        " Key Concepts\n",
        "Generators are used to create iterators.\n",
        "\n",
        "Unlike regular functions that use return, a generator pauses at yield and resumes from there later.\n",
        "\n",
        "Ideal for large datasets or infinite sequences, since they don’t store everything in memory.\n",
        ".using genrator function\n",
        "def count_up_to(max):\n",
        "    count = 1\n",
        "    while count <= max:\n",
        "        yield count\n",
        "        count += 1\n",
        "Generator Example with for loop\n",
        "def squares(n):\n",
        "    for i in range(n):\n",
        "        yield i * i\n",
        "\n",
        "for num in squares(4):\n",
        "    print(num)\n",
        "# Output: 0, 1, 4, 9\n",
        "\n",
        "\n"
      ],
      "metadata": {
        "id": "34eDFO_-jfzK"
      },
      "execution_count": null,
      "outputs": []
    },
    {
      "cell_type": "code",
      "source": [
        "7.What are the advantages of using generators over regular functions?\n",
        "ANS. Advantages of Using Generators Over Regular Functions in Python\n",
        "Generators offer several powerful advantages, especially when dealing with large data, streams, or complex iteration logic. Here’s why you might choose generators instead of regular functions:\n",
        "\n",
        " 1. Memory Efficiency\n",
        "Generators do not store the entire sequence in memory.\n",
        "\n",
        "They yield items one at a time, on demand.\n",
        "\n",
        "Example:\n",
        "\n",
        "def big_numbers():\n",
        "    for i in range(1_000_000):\n",
        "        yield  This avoids storing a list of 1 million numbers in memory.\n",
        "\n",
        " 2. Lazy Evaluation\n",
        "Generators compute values only when needed.\n",
        "\n",
        "This improves performance and reduces delay for large or infinite sequences.\n",
        "\n",
        "Example:python\n",
        "\n",
        "gen = (x * x for x in range(1000000))\n",
        "print(next(gen))  # Only calculates what's needed\n",
        "🔹 3. Cleaner Code for Iteration\n",
        "Generators simplify complex iteration logic using yield.\n",
        "\n",
        "No need to manage state manually.\n",
        "\n",
        "Example (fibonacci generator):\n",
        "python:\n",
        "def fibonacci():\n",
        "    a, b = 0, 1\n",
        "    while True:\n",
        "        yield a\n",
        "        a, b = b, a + b\n",
        " 4. Infinite Sequences\n",
        "Regular functions can't return infinite data.\n",
        "\n",
        "Generators make it easy to create infinite loops or sequences.\n",
        "def count():\n",
        "    n = 1\n",
        "    while True:\n",
        "        yield n\n",
        "        n += 1 5. Pipeline Support\n",
        "Generators can be chained to build data processing pipelines.\n",
        "\n",
        "Example:\n",
        "python\n",
        "def even_numbers(nums):\n",
        "    for n in nums:\n",
        "        if n % 2 == 0:\n",
        "            yield n\n",
        "\n",
        "nums = range(10)\n",
        "evens = even_numbers(nums)\n",
        "print(list(evens))  # Output: [0, 2, 4, 6, 8]\n"
      ],
      "metadata": {
        "id": "PWVs_tE9ketT"
      },
      "execution_count": null,
      "outputs": []
    },
    {
      "cell_type": "code",
      "source": [
        "8.What is a lambda function in Python and when is it typically used?\n",
        "ANS. lambda function is a small, anonymous function defined using the lambda keyword instead of def. It can take any number of arguments but can only have one expression.\n",
        " Syntax:\n",
        "lambda arguments: expression Example:\n",
        "python:\n",
        "square = lambda x: x * x\n",
        "print(square(5))  # Output: 25\n",
        "This is equivalent to:\n",
        "def square(x):\n",
        "    return x *\n",
        "Typical Use Cases for Lambda Functions\n",
        "Lambda functions are used when you need a simple function for a short period, especially when passing it as an argument to another function.\n",
        "\n",
        "1. With map()\n",
        "python:\n",
        "nums = [1, 2, 3, 4]\n",
        "squared = list(map(lambda x: x ** 2, nums))\n",
        "print(squared)  # Output: [1, 4, 9, 16]\n",
        "2. With filter()\n",
        "python\n",
        "even_nums = list(filter(lambda x: x % 2 == 0, nums))\n",
        "print(even_nums)  # Output: [2, 4]\n",
        "3.With sorted()\n",
        "python\n",
        "students = [(\"Alice\", 85), (\"Bob\", 90), (\"David\", 80)]\n",
        "sorted_students = sorted(students, key=lambda x: x[1])\n",
        "print(sorted_students)\n",
        "# Output: [('David', 80), ('Alice', 85), ('Bob', 90)]"
      ],
      "metadata": {
        "id": "KtXURurBloIV"
      },
      "execution_count": null,
      "outputs": []
    },
    {
      "cell_type": "code",
      "source": [
        "9.Explain the purpose and usage of the `map()` function in Python.\n",
        "ANS.The map() function is used to apply a function to each item in an iterable (like a list or tuple) and return a new iterable (map object) with the results.\n",
        "\n",
        "map(function, iterable)\n",
        "function: A function (can be built-in, user-defined, or lambda)\n",
        "\n",
        "iterable: A sequence (like list, tuple, etc.)\n",
        "\n",
        "You typically wrap the result with list() or tuple() t\n",
        "Example 1: Square Numbers\n",
        "python\n",
        "numbers = [1, 2, 3, 4]\n",
        "squares = map(lambda x: x ** 2, numbers)\n",
        "print(list(squares))  # Output: [1, 4, 9, 16]"
      ],
      "metadata": {
        "id": "wqFcA9NVmysZ"
      },
      "execution_count": null,
      "outputs": []
    },
    {
      "cell_type": "code",
      "source": [
        "10. What is the difference between `map()`, `reduce()`, and `filter()` functions in Python?\n",
        "ANS.. map(): Transform Each Element\n",
        "Applies a function to every item in an iterable.\n",
        "\n",
        "Returns a new iterable with transformed values.\n",
        "\n",
        " Syntax:\n",
        "map(function, iterable) Example:nums = [1, 2, 3, 4]\n",
        "squared = list(map(lambda x: x ** 2, nums))\n",
        "# Output: [1, 4, 9, 16]\n",
        "2. filter(): Select Certain Elements\n",
        "Filters the iterable by applying a function that returns True or False.\n",
        "\n",
        "Only elements that return True are included.\n",
        " Syntax:\n",
        "python\n",
        "filter(function, iterable)\n",
        "Example:\n",
        "nums = [1, 2, 3, 4]\n",
        "even = list(filter(lambda x: x % 2 == 0, nums))\n",
        "# Output: [2, 4]\n",
        "\n",
        "3. reduce(): Combine into a Single Value\n",
        "Repeatedly applies a function to the iterable to reduce it to a single value.\n",
        "\n",
        "Comes from functools module.\n",
        " Syntax:\n",
        "from functools import reduce\n",
        "reduce(function, iterable)\n",
        "Example:\n",
        "from functools import reduce\n",
        "nums = [1, 2, 3, 4]\n",
        "sum_all = reduce(lambda x, y: x + y, nums)\n",
        "# Output: 10"
      ],
      "metadata": {
        "id": "YT_y-ym5F1An"
      },
      "execution_count": null,
      "outputs": []
    },
    {
      "cell_type": "code",
      "source": [
        "11. Using pen & Paper write the internal mechanism for sum operation using  reduce function on this given\n",
        "list:[47,11,42,13];\n",
        "ANS."
      ],
      "metadata": {
        "id": "q2JGzw0aHU9o"
      },
      "execution_count": null,
      "outputs": []
    },
    {
      "cell_type": "code",
      "source": [
        "                                                      pratical questions.\n"
      ],
      "metadata": {
        "id": "A_pb0fIQOSti"
      },
      "execution_count": null,
      "outputs": []
    },
    {
      "cell_type": "code",
      "source": [
        "1. Write a Python function that takes a list of numbers as input and returns the sum of all even numbers in the list.\n",
        "ANS.\n",
        "def sum_of_even_numbers(numbers):\n",
        "    even_sum = 0\n",
        "    for num in numbers:\n",
        "        if num % 2 == 0:\n",
        "            even_sum += num\n",
        "    return even_sum\n",
        "my_list = [10, 15, 8, 23, 4]\n",
        "result = sum_of_even_numbers(my_list)\n",
        "print(\"Sum of even numbers:\", result)\n"
      ],
      "metadata": {
        "id": "d5kH6jvLOgWZ"
      },
      "execution_count": null,
      "outputs": []
    },
    {
      "cell_type": "code",
      "source": [
        "2. Create a Python function that accepts a string and returns the reverse of that string.\n",
        "ANS.\n",
        "def reverse_string(text):\n",
        "    return text[::-1]\n",
        "input_str = \"hello\"\n",
        "reversed_str = reverse_string(input_str)\n",
        "print(\"Reversed string:\", reversed_str)"
      ],
      "metadata": {
        "id": "f2aII9LYPSxM"
      },
      "execution_count": null,
      "outputs": []
    },
    {
      "cell_type": "code",
      "source": [
        "3. Implement a Python function that takes a list of integers and returns a new list containing the squares of each number\n",
        "ANS.Here's a Python function that takes a list of integers and returns a new list containing the squares of each number:\n",
        "def square_list(numbers):\n",
        "    return [num ** 2 for num in numbers]\n",
        "    Example usage:\n",
        "nums = [1, 2, 3, 4, 5]\n",
        "squared = square_list(nums)\n",
        "print(\"Squared list:\", squared)\n",
        "Output:\n",
        "Squared list: [1, 4, 9, 16, 25]\n"
      ],
      "metadata": {
        "id": "PdJjOWz8RJaA"
      },
      "execution_count": null,
      "outputs": []
    },
    {
      "cell_type": "code",
      "source": [
        "4. Write a Python function that checks if a given number is prime or not from 1 to 200.\n",
        "ANS.Here's a Python function that checks whether a given number (from 1 to 200) is prime or not:\n",
        "def is_prime(n):\n",
        "    if n < 2:\n",
        "        return False  # 0 and 1 are not prime\n",
        "    for i in range(2, int(n**0.5) + 1):  # Check divisibility up to √n\n",
        "        if n % i == 0:\n",
        "            return False\n",
        "    return True\n",
        "     Example usage:\n",
        "for number in range(1, 201):\n",
        "    if is_prime(number):\n",
        "        print(number, \"is a prime number\")\n"
      ],
      "metadata": {
        "id": "rA6WaGIPR-Ok"
      },
      "execution_count": null,
      "outputs": []
    },
    {
      "cell_type": "code",
      "source": [
        "5. Create an iterator class in Python that generates the Fibonacci sequence up to a specified number of\n",
        "terms.\n",
        "ANS. Fibonacci Iterator Class\n",
        "class FibonacciIterator:\n",
        "    def __init__(self, max_terms):\n",
        "        self.max_terms = max_terms\n",
        "        self.count = 0\n",
        "        self.a = 0\n",
        "        self.b = 1\n",
        "\n",
        "    def __iter__(self):\n",
        "        return self  # returns the iterator object itself\n",
        "\n",
        "    def __next__(self):\n",
        "        if self.count >= self.max_terms:\n",
        "            raise StopIteration  # ends iteration when limit is reached\n",
        "        if self.count == 0:\n",
        "            self.count += 1\n",
        "            return 0\n",
        "        elif self.count == 1:\n",
        "            self.count += 1\n",
        "            return 1\n",
        "            else:\n",
        "            self.a, self.b = self.b, self.a + self.b\n",
        "            self.count += 1\n",
        "            return self.a\n",
        "             Example usage:\n",
        "fib = FibonacciIterator(10)  # Generate first 10 Fibonacci numbers\n",
        "\n",
        "for num in fib:\n",
        "    print(num, end=\" \")\n",
        "Output:\n",
        "0 1 1 2 3 5 8 13 21 34"
      ],
      "metadata": {
        "id": "a4EG6zCDScZ3"
      },
      "execution_count": null,
      "outputs": []
    },
    {
      "cell_type": "code",
      "source": [
        "6. Write a generator function in Python that yields the powers of 2 up to a given exponent.\n",
        "ANS. Generator Function: Powers of 2\n",
        "def powers_of_two(max_exponent):\n",
        "    for exp in range(max_exponent + 1):\n",
        "        yield 2 ** exp\n",
        "for power in powers_of_two(5):\n",
        "    print(power)\n",
        "Output:\n",
        "1\n",
        "2\n",
        "4\n",
        "8\n",
        "16\n",
        "32\n"
      ],
      "metadata": {
        "id": "zSoIs1kLTWbR"
      },
      "execution_count": null,
      "outputs": []
    },
    {
      "cell_type": "markdown",
      "source": [],
      "metadata": {
        "id": "PWATkManqxQO"
      }
    },
    {
      "cell_type": "code",
      "source": [
        "7.Implement a generator function that reads a file line by line and yields each line as a string.\n",
        "ANS. Generator Function to Read File Line by Line\n",
        "def read_file_line_by_line(file_path):\n",
        "    with open(file_path, 'r') as file:\n",
        "        for line in file:\n",
        "            yield line.rstrip('\\n')  # Remove newline character\n",
        "# Assume you have a file named \"sample.txt\"\n",
        "for line in read_file_line_by_line(\"sample.txt\"):\n",
        "    print(line)"
      ],
      "metadata": {
        "id": "U1zgs5CfqoJP"
      },
      "execution_count": null,
      "outputs": []
    },
    {
      "cell_type": "code",
      "source": [
        "8.Use a lambda function in Python to sort a list of tuples based on the second element of each tuple.\n",
        "ANS\n",
        "data = [(3, 4), (1, 2), (5, 1), (7, 3)]\n",
        "\n",
        "# Sort by second element using lambda\n",
        "sorted_data = sorted(data, key=lambda x: x[1])\n",
        "\n",
        "print(sorted_data)\n",
        " Output:\n",
        "css\n",
        "[(5, 1), (1, 2), (7, 3), (3, 4)]"
      ],
      "metadata": {
        "id": "r56eX76mrgqx"
      },
      "execution_count": null,
      "outputs": []
    },
    {
      "cell_type": "code",
      "source": [
        "# 9.Write a Python program that uses `map()` to convert a list of temperatures from Celsius to Fahrenheit.\n",
        "#ANS.\n",
        "def fahrenheit_to_celsius(fahrenheit):\n",
        "    celsius = (fahrenheit - 32) * 5 / 9\n",
        "    return celsius\n",
        "\n",
        "f_temp = float(input(\"Enter temperature in Fahrenheit: \"))\n",
        "c_temp = fahrenheit_to_celsius(f_temp)\n",
        "print(f\"{f_temp}°F is equal to {c_temp:.2f}°C\")\n",
        "\n"
      ],
      "metadata": {
        "colab": {
          "base_uri": "https://localhost:8080/"
        },
        "id": "5nXHaC3AHj63",
        "outputId": "f0f8a11a-77c8-499e-9e2d-097aead01ce4"
      },
      "execution_count": 4,
      "outputs": [
        {
          "output_type": "stream",
          "name": "stdout",
          "text": [
            "Enter temperature in Fahrenheit: 97\n",
            "97.0°F is equal to 36.11°C\n"
          ]
        }
      ]
    },
    {
      "cell_type": "code",
      "source": [
        "10. Create a Python program that uses `filter()` to remove all the vowels from a given string.\n",
        "ANS.def remove_vowels(text):\n",
        "    vowels = \"aeiouAEIOU\"\n",
        "    return ''.join(filter(lambda char: char not in vowels, text))\n",
        "\n",
        "# Example usage\n",
        "input_string = input(\"Enter a string: \")\n",
        "result = remove_vowels(input_string)\n",
        "print(\"String without vowels:\", result)\n"
      ],
      "metadata": {
        "id": "InjgkBJoIpXF"
      },
      "execution_count": null,
      "outputs": []
    },
    {
      "cell_type": "code",
      "source": [
        "11.Imagine an accounting routine used in a book shop. It works on a list with sublists, which look like this:\n",
        "\n",
        "\n",
        "\n",
        "\n",
        "\n",
        "\n",
        "\n",
        "Write a Python program, which returns a list with 2-tuples. Each tuple consists of the order number and the\n",
        "product of the price per item and the quantity. The product should be increased by 10,- € if the value of the\n",
        "order is smaller than 100,00 €.\n",
        "\n",
        "Write a Python program using lambda and map.\n",
        "ANS.# Original data: [order_number, title, quantity, price_per_item]\n",
        "orders = [\n",
        "    [34587, \"Learning Python, Mark Lutz\", 4, 40.95],\n",
        "    [98762, \"Programming Python, Mark Lutz\", 5, 56.80],\n",
        "    [77226, \"Head First Python, Paul Barry\", 3, 32.95],\n",
        "    [88112, \"Einführung in Python3, Bernd Klein\", 3, 24.99]\n",
        "]\n",
        "\n",
        "# Process each order: calculate total and add €10 if < 100\n",
        "result = list(map(lambda order: (\n",
        "    order[0],\n",
        "    order[2] * order[3] + (10 if order[2] * order[3] < 100 else 0)\n",
        "), orders))\n",
        "\n",
        "# Print the result\n",
        "print(result)\n"
      ],
      "metadata": {
        "id": "TIuXEp1GCElZ"
      },
      "execution_count": null,
      "outputs": []
    }
  ]
}